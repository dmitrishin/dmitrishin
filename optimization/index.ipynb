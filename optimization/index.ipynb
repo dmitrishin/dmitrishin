{
 "cells": [
  {
   "cell_type": "markdown",
   "metadata": {},
   "source": [
    "# SciPy"
   ]
  },
  {
   "cell_type": "markdown",
   "metadata": {},
   "source": [
    "Библиотека SciPy является одним из основных пакетов, которые составляют стек SciPy.\n",
    "\n",
    "Основные субмодули scipy:\n",
    "    - scipy.stats\n",
    "    - scipy.optimize\n",
    "    - scipy.integrate \n",
    "    - scipy.interpolate\n",
    "    - scipy.linalg\n",
    "    - scipy.spatial\n",
    "    - scipy.io"
   ]
  },
  {
   "cell_type": "markdown",
   "metadata": {},
   "source": [
    "Ссылки:\n",
    "- <a href=\"https://www.scipy.org/\" target=\"_blank\">Scipy.org</a>\n",
    "- <a href=\"https://docs.scipy.org/doc/\" target=\"_blank\">Docs SciPy</a>\n",
    "- <a href=\"https://docs.scipy.org/doc/scipy/reference/\" target=\"_blank\">Scipy Reference Guide</a>\n",
    "- <a href=\"https://docs.scipy.org/doc/scipy/reference/tutorial/index.html\" target=\"_blank\">SciPy Tutorial</a>\n",
    "- <a href=\"http://www.scipy-lectures.org/index.html\" target=\"_blank\">Scipy Lecture Notes</a>\n",
    "- <a href=\"https://github.com/scipy/scipy\" target=\"_blank\">GitHub</a>"
   ]
  },
  {
   "cell_type": "code",
   "execution_count": 48,
   "metadata": {},
   "outputs": [],
   "source": [
    "import numpy as np\n",
    "import pandas as pd\n",
    "import matplotlib.pyplot as plt"
   ]
  },
  {
   "cell_type": "code",
   "execution_count": null,
   "metadata": {},
   "outputs": [],
   "source": []
  }
 ],
 "metadata": {
  "kernelspec": {
   "display_name": "Python 3",
   "language": "python",
   "name": "python3"
  },
  "language_info": {
   "codemirror_mode": {
    "name": "ipython",
    "version": 3
   },
   "file_extension": ".py",
   "mimetype": "text/x-python",
   "name": "python",
   "nbconvert_exporter": "python",
   "pygments_lexer": "ipython3",
   "version": "3.7.0"
  }
 },
 "nbformat": 4,
 "nbformat_minor": 2
}
