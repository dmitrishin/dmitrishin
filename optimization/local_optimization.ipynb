{
 "cells": [
  {
   "cell_type": "markdown",
   "metadata": {},
   "source": [
    "<style>\n",
    "#notebook-container {\n",
    "    padding: 15px;\n",
    "    background-color: #fff;\n",
    "    min-height: 0;\n",
    "    -webkit-box-shadow: 0px 0px 12px 1px rgba(87, 87, 87, 0.0);\n",
    "    box-shadow: 0px 0px 12px 1px rgba(87, 87, 87, 0.0);\n",
    "}\n",
    "</style>"
   ]
  },
  {
   "cell_type": "markdown",
   "metadata": {},
   "source": [
    "# SciPy. Optimization"
   ]
  },
  {
   "cell_type": "markdown",
   "metadata": {},
   "source": [
    "**<samp class=\"text-primary\">scipy.optimize</samp>** предоставляет функции для минимизации (или максимизации) целевых функций, возможно, с учетом ограничений. \n",
    "\n",
    "Включает алгоритмы для нелинейных задач (с поддержкой как локальных, так и глобальных алгоритмов оптимизации), линейного программирования, ограниченных и нелинейных наименьших квадратов, нахождения корня и подбора кривой."
   ]
  },
  {
   "cell_type": "markdown",
   "metadata": {},
   "source": [
    "Ссылки:\n",
    "- <a href=\"https://docs.scipy.org/doc/scipy/reference/optimize.html\">Optimization and Root Finding</a>"
   ]
  },
  {
   "cell_type": "markdown",
   "metadata": {},
   "source": [
    "Результат оптимизации:  \n",
    "\n",
    "**<samp>optimize.OptimizeResult</samp>**\n",
    "\n",
    "<pre>\n",
    "x : решение оптимизации\n",
    "success : была ли оптимизация успешно завершена\n",
    "nit : количество итераций, выполненных оптимизатором\n",
    "\n",
    "</pre>"
   ]
  },
  {
   "cell_type": "markdown",
   "metadata": {},
   "source": [
    "## Скалярные функции оптимизации\n",
    "*Scalar Functions Optimization*"
   ]
  },
  {
   "cell_type": "code",
   "execution_count": 1,
   "metadata": {},
   "outputs": [],
   "source": [
    "import numpy as np\n",
    "import scipy.optimize as optimize"
   ]
  },
  {
   "cell_type": "markdown",
   "metadata": {},
   "source": [
    "<samp>optimize.minimize_scalar(fun, bracket=None, bounds=None, args=(), method='brent', tol=None, options=None)</samp>\n",
    "\n",
    "<pre> \n",
    "bounds : границы оптимизации, опционально\n",
    "Для метода bounds границы являются обязательными и должны иметь два элемента: границы оптимизации.\n",
    "\n",
    "method : метод оптимизации, 'Brent', 'Bounded', 'Golden'\n",
    "</pre>"
   ]
  },
  {
   "cell_type": "markdown",
   "metadata": {},
   "source": [
    "Требуется минимизировать следующую функцию <samp class=\"text-primary\">fun()</samp>:"
   ]
  },
  {
   "cell_type": "code",
   "execution_count": 2,
   "metadata": {},
   "outputs": [],
   "source": [
    "# Задается функция\n",
    "def fun(x):\n",
    "    return (x - 2) * x * (x + 2)**2"
   ]
  },
  {
   "cell_type": "code",
   "execution_count": 3,
   "metadata": {},
   "outputs": [
    {
     "data": {
      "text/plain": [
       "     fun: -9.914949590828147\n",
       "    nfev: 15\n",
       "     nit: 11\n",
       " success: True\n",
       "       x: 1.2807764040333458"
      ]
     },
     "execution_count": 3,
     "metadata": {},
     "output_type": "execute_result"
    }
   ],
   "source": [
    "# применяется тетод минимизации функции \n",
    "\n",
    "res = optimize.minimize_scalar(fun)\n",
    "res"
   ]
  },
  {
   "cell_type": "code",
   "execution_count": 4,
   "metadata": {},
   "outputs": [
    {
     "name": "stdout",
     "output_type": "stream",
     "text": [
      "Результат оптимизации : <class 'scipy.optimize.optimize.OptimizeResult'>\n"
     ]
    },
    {
     "data": {
      "text/plain": [
       "     fun: -9.914949590828147\n",
       "    nfev: 15\n",
       "     nit: 11\n",
       " success: True\n",
       "       x: 1.2807764040333458"
      ]
     },
     "execution_count": 4,
     "metadata": {},
     "output_type": "execute_result"
    }
   ],
   "source": [
    "print('Результат оптимизации :', type(res))\n",
    "optimize.OptimizeResult(res)"
   ]
  },
  {
   "cell_type": "code",
   "execution_count": 5,
   "metadata": {},
   "outputs": [
    {
     "data": {
      "text/plain": [
       "-9.914949590828147"
      ]
     },
     "execution_count": 5,
     "metadata": {},
     "output_type": "execute_result"
    }
   ],
   "source": [
    "fun(x=1.2807764040333458)"
   ]
  },
  {
   "cell_type": "markdown",
   "metadata": {},
   "source": [
    "Используя метод <samp>bounded</samp>, находим **локальный минимум** с указанными границами:"
   ]
  },
  {
   "cell_type": "code",
   "execution_count": 6,
   "metadata": {},
   "outputs": [
    {
     "data": {
      "text/plain": [
       "     fun: 3.2836517984978577e-13\n",
       " message: 'Solution found.'\n",
       "    nfev: 12\n",
       "  status: 0\n",
       " success: True\n",
       "       x: -2.000000202597239"
      ]
     },
     "execution_count": 6,
     "metadata": {},
     "output_type": "execute_result"
    }
   ],
   "source": [
    "# Выполняется локальная минимизация функции foo() которая ограничена границами bounds\n",
    "\n",
    "res = optimize.minimize_scalar(fun, bounds=(-3, -1), method='bounded')\n",
    "res"
   ]
  },
  {
   "cell_type": "code",
   "execution_count": 7,
   "metadata": {},
   "outputs": [
    {
     "data": {
      "text/plain": [
       "3.2836517984978577e-13"
      ]
     },
     "execution_count": 7,
     "metadata": {},
     "output_type": "execute_result"
    }
   ],
   "source": [
    "fun(res.x)"
   ]
  },
  {
   "cell_type": "markdown",
   "metadata": {},
   "source": [
    "## Локальная (многомерная) оптимизация\n",
    "*Local (Multivariate) Optimization*"
   ]
  },
  {
   "cell_type": "code",
   "execution_count": 8,
   "metadata": {},
   "outputs": [],
   "source": [
    "# rosen - Функция Розенброка\n",
    "rosen = optimize.rosen"
   ]
  },
  {
   "cell_type": "markdown",
   "metadata": {},
   "source": [
    "<a href=\"https://ru.wikipedia.org/wiki/%D0%A4%D1%83%D0%BD%D0%BA%D1%86%D0%B8%D1%8F_%D0%A0%D0%BE%D0%B7%D0%B5%D0%BD%D0%B1%D1%80%D0%BE%D0%BA%D0%B0\" target=\"_blank\">Функция Розенбока</a> — невыпуклая функция, используемая для оценки производительности алгоритмов оптимизации, предложенная Ховардом Розенброком в 1960 году.\n",
    "\n",
    "Является примером тестовой функции для локальных методов оптимизации. Имеет минимум <samp>0</samp> в точке <samp>*(1,1)*</samp>"
   ]
  },
  {
   "cell_type": "code",
   "execution_count": 9,
   "metadata": {},
   "outputs": [],
   "source": [
    "x0 = [1, 1]"
   ]
  },
  {
   "cell_type": "code",
   "execution_count": 10,
   "metadata": {},
   "outputs": [
    {
     "name": "stdout",
     "output_type": "stream",
     "text": [
      "message : Optimization terminated successfully.\n",
      "nit     : 24\n",
      "fun     : 0.0\n",
      "x       : [1. 1.]\n"
     ]
    }
   ],
   "source": [
    "res = optimize.minimize(fun=rosen, x0=x0, method='Nelder-Mead')\n",
    "\n",
    "# Результаты оптимизации\n",
    "print('message :', res.message)\n",
    "print('nit     :', res.nit)\n",
    "print('fun     :', res.fun)\n",
    "print('x       :', res.x)"
   ]
  },
  {
   "cell_type": "code",
   "execution_count": 11,
   "metadata": {},
   "outputs": [
    {
     "data": {
      "text/plain": [
       "0.0"
      ]
     },
     "execution_count": 11,
     "metadata": {},
     "output_type": "execute_result"
    }
   ],
   "source": [
    "# Подставим решение в функцию rosen Функция Розенброка\n",
    "rosen(res.x)"
   ]
  },
  {
   "cell_type": "code",
   "execution_count": 1,
   "metadata": {},
   "outputs": [
    {
     "name": "stdout",
     "output_type": "stream",
     "text": [
      "Hello, world\n"
     ]
    }
   ],
   "source": [
    "print('Hello, world')"
   ]
  },
  {
   "cell_type": "code",
   "execution_count": null,
   "metadata": {},
   "outputs": [],
   "source": []
  }
 ],
 "metadata": {
  "kernelspec": {
   "display_name": "Python 3",
   "language": "python",
   "name": "python3"
  },
  "language_info": {
   "codemirror_mode": {
    "name": "ipython",
    "version": 3
   },
   "file_extension": ".py",
   "mimetype": "text/x-python",
   "name": "python",
   "nbconvert_exporter": "python",
   "pygments_lexer": "ipython3",
   "version": "3.6.8"
  }
 },
 "nbformat": 4,
 "nbformat_minor": 2
}
